{
 "cells": [
  {
   "cell_type": "code",
   "execution_count": 4,
   "id": "dfe025b5",
   "metadata": {},
   "outputs": [],
   "source": [
    "import pandas as pd\n",
    "import matplotlib.pyplot as plt\n",
    "import seaborn as sns\n",
    "from sklearn.model_selection import train_test_split\n",
    "from sklearn.preprocessing import StandardScaler, LabelEncoder\n",
    "from sklearn.metrics import accuracy_score, confusion_matrix, classification_report\n",
    "from sklearn.linear_model import LogisticRegression\n",
    "    "
   ]
  },
  {
   "cell_type": "code",
   "execution_count": 9,
   "id": "a3a7c047",
   "metadata": {},
   "outputs": [
    {
     "name": "stdout",
     "output_type": "stream",
     "text": [
      "Dataset loaded successfully from d:\\AI\\Intelligence\\Infra\\human_activity_recognition\\Experiment\\..\\dataset.csv\n"
     ]
    }
   ],
   "source": [
    "\n",
    "# Load the dataset\n",
    "import os\n",
    "# Define the relative path to go up one directory and access dataset.csv\n",
    "file_path = os.path.join(os.getcwd(), '..', 'dataset.csv')\n",
    "\n",
    "selected_columns = ['sub', 'act', 'alx', 'aly', 'alz']\n",
    "data = pd.read_csv(file_path, usecols=selected_columns)\n",
    "print(f\"Dataset loaded successfully from {file_path}\")"
   ]
  },
  {
   "cell_type": "code",
   "execution_count": null,
   "id": "478d89a1",
   "metadata": {},
   "outputs": [],
   "source": [
    "\n",
    "# Rename columns\n",
    "data.rename(columns={'act': 'activity', 'sub': 'subject'}, inplace=True)\n",
    "print(\"Columns renamed: 'act' -> 'activity', 'sub' -> 'subject'\")\n",
    "    "
   ]
  },
  {
   "cell_type": "code",
   "execution_count": null,
   "id": "8df4f2d0",
   "metadata": {},
   "outputs": [],
   "source": [
    "\n",
    "# Remove duplicate rows\n",
    "before_count = len(data)\n",
    "data = data.drop_duplicates()\n",
    "after_count = len(data)\n",
    "print(f\"Removed {before_count - after_count} duplicate rows. Remaining rows: {after_count}.\")\n",
    "    "
   ]
  },
  {
   "cell_type": "code",
   "execution_count": null,
   "id": "85a8e25b",
   "metadata": {},
   "outputs": [],
   "source": [
    "\n",
    "# Handle missing values by removing rows with NaN in 'subject' or 'activity' columns\n",
    "required_columns = ['subject', 'activity']\n",
    "data = data.dropna(subset=required_columns)\n",
    "print(\"Rows with NaN in 'subject' or 'activity' columns have been removed.\")\n",
    "    "
   ]
  },
  {
   "cell_type": "code",
   "execution_count": null,
   "id": "19d8ae7d",
   "metadata": {},
   "outputs": [],
   "source": [
    "\n",
    "# Handle missing values for other columns using the mean strategy\n",
    "for column in data.columns:\n",
    "    if data[column].isnull().sum() > 0:\n",
    "        data[column] = data[column].fillna(data[column].mean())\n",
    "print(\"Missing values handled using mean strategy.\")\n",
    "    "
   ]
  },
  {
   "cell_type": "code",
   "execution_count": null,
   "id": "0e034cba",
   "metadata": {},
   "outputs": [],
   "source": [
    "\n",
    "# Fix incorrect datatypes\n",
    "print(\"---------------------------------------Before fixing the datatypes------------------------\")\n",
    "print(data.dtypes)\n",
    "data['subject'] = data['subject'].astype('string')\n",
    "print(\"Column 'subject' converted to string.\")\n",
    "print(\"---------------------------------------After fixing the datatypes------------------------\")\n",
    "print(data.dtypes)\n",
    "    "
   ]
  },
  {
   "cell_type": "code",
   "execution_count": null,
   "id": "7c65c846",
   "metadata": {},
   "outputs": [],
   "source": [
    "\n",
    "# Plot the distribution of all activities\n",
    "plt.figure(figsize=(10, 8))\n",
    "plt.title(\"Barplot of All Activities\", fontsize=16)\n",
    "sns.countplot(data=data, x='activity')\n",
    "plt.xticks(rotation=90, fontsize=12)\n",
    "plt.xlabel('Activity', fontsize=14)\n",
    "plt.ylabel('Count', fontsize=14)\n",
    "plt.show()\n",
    "    "
   ]
  },
  {
   "cell_type": "code",
   "execution_count": null,
   "id": "346518cb",
   "metadata": {},
   "outputs": [],
   "source": [
    "\n",
    "# Filter selected activities\n",
    "selected_activities = [\"Jogging\", \"Walking\", \"Jumping\", \"Cycling\", \"Sitting\"]\n",
    "data = data[data['activity'].isin(selected_activities)]\n",
    "data['activity'] = data['activity'].apply(lambda x: x if x in selected_activities else \"0\")\n",
    "activity_counts = data['activity'].value_counts()\n",
    "print(f\"Counts of selected activities:{activity_counts}\")\n",
    "    "
   ]
  },
  {
   "cell_type": "code",
   "execution_count": null,
   "id": "080f6e1b",
   "metadata": {},
   "outputs": [],
   "source": [
    "\n",
    "# Plot the distribution of selected activities\n",
    "plt.figure(figsize=(10, 8))\n",
    "plt.title(\"Barplot of Selected Activities\", fontsize=16)\n",
    "sns.countplot(data=data, x='activity')\n",
    "plt.xticks(rotation=90, fontsize=12)\n",
    "plt.xlabel('Activity', fontsize=14)\n",
    "plt.ylabel('Count', fontsize=14)\n",
    "plt.show()\n",
    "    "
   ]
  },
  {
   "cell_type": "code",
   "execution_count": null,
   "id": "b2af6b42",
   "metadata": {},
   "outputs": [],
   "source": [
    "\n",
    "# Encode categorical data\n",
    "le = LabelEncoder()\n",
    "data['activity'] = le.fit_transform(data['activity'])\n",
    "    "
   ]
  },
  {
   "cell_type": "code",
   "execution_count": null,
   "id": "a8d28ff7",
   "metadata": {},
   "outputs": [],
   "source": [
    "\n",
    "# Split the dataset into features and labels\n",
    "X = data.drop(columns=['activity', 'subject'])  # Drop 'subject' as well\n",
    "y = data['activity']\n",
    "    "
   ]
  },
  {
   "cell_type": "code",
   "execution_count": null,
   "id": "3d4eb467",
   "metadata": {},
   "outputs": [],
   "source": [
    "\n",
    "# Split the dataset into training and testing sets\n",
    "X_train, X_test, y_train, y_test = train_test_split(X, y, test_size=0.2, random_state=0)\n",
    "print(f\"Dataset split into training and testing sets. Test size: 0.2\")\n",
    "    "
   ]
  },
  {
   "cell_type": "code",
   "execution_count": null,
   "id": "048a3510",
   "metadata": {},
   "outputs": [],
   "source": [
    "\n",
    "# Scale the features\n",
    "scaler = StandardScaler()\n",
    "X_train = scaler.fit_transform(X_train)\n",
    "X_test = scaler.transform(X_test)\n",
    "print(\"Features scaled successfully.\")\n",
    "    "
   ]
  },
  {
   "cell_type": "code",
   "execution_count": null,
   "id": "41b5dafe",
   "metadata": {},
   "outputs": [],
   "source": [
    "\n",
    "# Train logistic regression model\n",
    "model = LogisticRegression(max_iter=1000)\n",
    "model.fit(X_train, y_train)\n",
    "print(\"Logistic Regression model trained successfully.\")\n",
    "    "
   ]
  },
  {
   "cell_type": "code",
   "execution_count": null,
   "id": "86be1eb0",
   "metadata": {},
   "outputs": [],
   "source": [
    "\n",
    "# Evaluate the model\n",
    "y_pred = model.predict(X_test)\n",
    "accuracy = accuracy_score(y_test, y_pred)\n",
    "print(f\"Accuracy: {accuracy * 100:.2f}%\")\n",
    "print(\"Confusion Matrix:\")\n",
    "print(confusion_matrix(y_test, y_pred))\n",
    "print(\"Classification Report:\")\n",
    "print(classification_report(y_test, y_pred))\n",
    "    "
   ]
  }
 ],
 "metadata": {
  "kernelspec": {
   "display_name": "Python 3.12.8 64-bit",
   "language": "python",
   "name": "python3"
  },
  "language_info": {
   "codemirror_mode": {
    "name": "ipython",
    "version": 3
   },
   "file_extension": ".py",
   "mimetype": "text/x-python",
   "name": "python",
   "nbconvert_exporter": "python",
   "pygments_lexer": "ipython3",
   "version": "3.12.8"
  },
  "vscode": {
   "interpreter": {
    "hash": "70573cb6fe584e19b27287afbc220449faa01edbf13a13f92d99d1b0b98bf703"
   }
  }
 },
 "nbformat": 4,
 "nbformat_minor": 5
}
